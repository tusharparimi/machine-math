{
 "cells": [
  {
   "cell_type": "markdown",
   "metadata": {},
   "source": [
    "### Picograd\n",
    "- pico scaled version of karpathy's micrograd :)\n",
    "- picograd is engine for automatic differentiation\n",
    "- only implemented add and mul\n",
    "- just to try autodiff"
   ]
  },
  {
   "cell_type": "code",
   "execution_count": 6,
   "metadata": {},
   "outputs": [],
   "source": [
    "from picograd.engine import Variable"
   ]
  },
  {
   "cell_type": "code",
   "execution_count": 7,
   "metadata": {},
   "outputs": [
    {
     "name": "stdout",
     "output_type": "stream",
     "text": [
      "Variable(data: 3, grad: 0)\n",
      "Variable(data: 4, grad: 0)\n"
     ]
    }
   ],
   "source": [
    "x1 = Variable(3)\n",
    "x2 = Variable(4)\n",
    "\n",
    "print(x1)\n",
    "print(x2)"
   ]
  },
  {
   "cell_type": "code",
   "execution_count": 8,
   "metadata": {},
   "outputs": [
    {
     "name": "stdout",
     "output_type": "stream",
     "text": [
      "before backward call,\n",
      "Variable(data: 3, grad: 0)\n",
      "Variable(data: 4, grad: 0)\n",
      "Variable(data: 7, grad: 0)\n",
      "\n",
      "after backward call,\n",
      "Variable(data: 3, grad: 1)\n",
      "Variable(data: 4, grad: 1)\n",
      "Variable(data: 7, grad: 1)\n"
     ]
    }
   ],
   "source": [
    "a = x1 + x2\n",
    "print(\"before backward call,\")\n",
    "print(x1)\n",
    "print(x2)\n",
    "print(a)\n",
    "\n",
    "a.backward()\n",
    "\n",
    "print(\"\\nafter backward call,\")\n",
    "print(x1)\n",
    "print(x2)\n",
    "print(a)\n"
   ]
  },
  {
   "cell_type": "code",
   "execution_count": 9,
   "metadata": {},
   "outputs": [
    {
     "name": "stdout",
     "output_type": "stream",
     "text": [
      "before backward call,\n",
      "Variable(data: 3, grad: 1)\n",
      "Variable(data: 4, grad: 1)\n",
      "Variable(data: 12, grad: 0)\n",
      "\n",
      "after backward call,\n",
      "Variable(data: 3, grad: 5)\n",
      "Variable(data: 4, grad: 4)\n",
      "Variable(data: 12, grad: 1)\n"
     ]
    }
   ],
   "source": [
    "b = x1 * x2\n",
    "print(\"before backward call,\")\n",
    "print(x1)\n",
    "print(x2)\n",
    "print(b)\n",
    "\n",
    "b.backward()\n",
    "\n",
    "print(\"\\nafter backward call,\")\n",
    "print(x1)\n",
    "print(x2)\n",
    "print(b)\n"
   ]
  },
  {
   "cell_type": "code",
   "execution_count": 10,
   "metadata": {},
   "outputs": [
    {
     "name": "stdout",
     "output_type": "stream",
     "text": [
      "before backward call,\n",
      "Variable(data: 3, grad: 5)\n",
      "Variable(data: 4, grad: 4)\n",
      "Variable(data: 19, grad: 0)\n",
      "\n",
      "after backward call,\n",
      "Variable(data: 3, grad: 30)\n",
      "Variable(data: 4, grad: 20)\n",
      "Variable(data: 19, grad: 1)\n"
     ]
    }
   ],
   "source": [
    "y = (x1 * x2) + x1 + x2\n",
    "print(\"before backward call,\")\n",
    "print(x1)\n",
    "print(x2)\n",
    "print(y)\n",
    "\n",
    "y.backward()\n",
    "\n",
    "print(\"\\nafter backward call,\")\n",
    "print(x1)\n",
    "print(x2)\n",
    "print(y)\n"
   ]
  },
  {
   "cell_type": "code",
   "execution_count": 11,
   "metadata": {},
   "outputs": [
    {
     "name": "stdout",
     "output_type": "stream",
     "text": [
      "before backward call,\n",
      "Variable(data: 3, grad: 30)\n",
      "Variable(data: 4, grad: 20)\n",
      "Variable(data: 84, grad: 0)\n",
      "\n",
      "after backward call,\n",
      "Variable(data: 3, grad: 30)\n",
      "Variable(data: 4, grad: 20)\n",
      "Variable(data: 84, grad: 0)\n"
     ]
    }
   ],
   "source": [
    "z = (x1 * x2) * (x1 + x2)\n",
    "print(\"before backward call,\")\n",
    "print(x1)\n",
    "print(x2)\n",
    "print(z)\n",
    "\n",
    "z._backward()\n",
    "\n",
    "print(\"\\nafter backward call,\")\n",
    "print(x1)\n",
    "print(x2)\n",
    "print(z)\n"
   ]
  }
 ],
 "metadata": {
  "kernelspec": {
   "display_name": "base",
   "language": "python",
   "name": "python3"
  },
  "language_info": {
   "codemirror_mode": {
    "name": "ipython",
    "version": 3
   },
   "file_extension": ".py",
   "mimetype": "text/x-python",
   "name": "python",
   "nbconvert_exporter": "python",
   "pygments_lexer": "ipython3",
   "version": "3.11.5"
  }
 },
 "nbformat": 4,
 "nbformat_minor": 2
}
